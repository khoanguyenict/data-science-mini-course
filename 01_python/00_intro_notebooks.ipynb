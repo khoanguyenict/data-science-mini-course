{
 "cells": [
  {
   "cell_type": "markdown",
   "metadata": {},
   "source": [
    "# Jupyter notebooks\n",
    "\n",
    "Ta sẽ sử dụng notebooks để code Python. Lý do:\n",
    "\n",
    "- Notebooks là môi trường lập trình khá trực quan.\n",
    "- Code đến đâu kết quả hiển thị đến đó.\n",
    "- Không cần chạy lại chương trình từ đầu đến cuối, chỉ cần chạy lại cell cần điều chỉnh.\n",
    "- Giúp mọi người theo dõi code và visualization cùng một lúc.\n",
    "\n",
    "Thường ta sử dụng 2 chế độ cells:\n",
    "\n",
    "- text cells: dùng để ghi chú headers và paragraph kể cả LaTeX format.\n",
    "- code cells: dùng để code\n",
    "\n"
   ]
  },
  {
   "cell_type": "code",
   "execution_count": 1,
   "metadata": {},
   "outputs": [
    {
     "name": "stdout",
     "output_type": "stream",
     "text": [
      "Hello, World!\n"
     ]
    }
   ],
   "source": [
    "# dòng code mà ai cũng sẽ thử\n",
    "print(\"Hello, World!\")"
   ]
  }
 ],
 "metadata": {
  "kernelspec": {
   "display_name": "Python 2",
   "language": "python",
   "name": "python2"
  },
  "language_info": {
   "codemirror_mode": {
    "name": "ipython",
    "version": 2
   },
   "file_extension": ".py",
   "mimetype": "text/x-python",
   "name": "python",
   "nbconvert_exporter": "python",
   "pygments_lexer": "ipython2",
   "version": "2.7.15"
  }
 },
 "nbformat": 4,
 "nbformat_minor": 2
}
