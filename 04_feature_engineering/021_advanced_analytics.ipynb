{
 "cells": [
  {
   "cell_type": "code",
   "execution_count": 1,
   "metadata": {},
   "outputs": [
    {
     "data": {
      "text/html": [
       "<style>.container { width:100% !important; }</style>"
      ],
      "text/plain": [
       "<IPython.core.display.HTML object>"
      ]
     },
     "metadata": {},
     "output_type": "display_data"
    }
   ],
   "source": [
    "# Full width\n",
    "from IPython.core.display import display, HTML\n",
    "display(HTML(\"<style>.container { width:100% !important; }</style>\"))"
   ]
  },
  {
   "cell_type": "code",
   "execution_count": 2,
   "metadata": {},
   "outputs": [],
   "source": [
    "%load_ext autoreload\n",
    "%autoreload 2"
   ]
  },
  {
   "cell_type": "code",
   "execution_count": 3,
   "metadata": {},
   "outputs": [],
   "source": [
    "import math\n",
    "import os\n",
    "import subprocess\n",
    "import pickle \n",
    "\n",
    "import matplotlib.pyplot as plt\n",
    "import numpy as np\n",
    "import pandas as pd\n",
    "from IPython.display import display\n",
    "\n",
    "# \n",
    "from lib_modeling import *\n",
    "from lib_feature_engineering import *\n",
    "\n",
    "# some settings for displaying Pandas results\n",
    "pd.set_option('display.width', 2000)\n",
    "pd.set_option('display.max_rows', 500)\n",
    "pd.set_option('display.max_columns', 500)\n",
    "pd.set_option('display.precision', 4)\n",
    "pd.set_option('display.max_colwidth', -1)"
   ]
  },
  {
   "cell_type": "markdown",
   "metadata": {},
   "source": [
    "# Load combined features + label"
   ]
  },
  {
   "cell_type": "code",
   "execution_count": 4,
   "metadata": {},
   "outputs": [
    {
     "name": "stdout",
     "output_type": "stream",
     "text": [
      "Number of features: 1042\n",
      "pdf_features_label: (356255, 1045)\n",
      "pdf_train: (216948, 1045)\n"
     ]
    }
   ],
   "source": [
    "pdf_features_label = pd.read_csv(os.path.join(\"features\", \"pdf_features_label.csv.bz2\"), compression=\"bz2\")\n",
    "pdf_train = pdf_features_label.query(\"tvt_code == 'train'\")\n",
    "meta_cols = [\"SK_ID_CURR\", \"TARGET\", \"tvt_code\"]\n",
    "ls_features = [cname for cname in pdf_features_label.columns if cname not in meta_cols]\n",
    "\n",
    "# \n",
    "print(\"Number of features: {}\".format(len(ls_features)))\n",
    "print(\"pdf_features_label: {}\".format(pdf_features_label.shape))\n",
    "print(\"pdf_train: {}\".format(pdf_train.shape))"
   ]
  },
  {
   "cell_type": "markdown",
   "metadata": {},
   "source": [
    "# Load feature important"
   ]
  },
  {
   "cell_type": "code",
   "execution_count": 5,
   "metadata": {},
   "outputs": [
    {
     "data": {
      "text/plain": [
       "['auc',\n",
       " 'ls_tracked_auc',\n",
       " 'ls_curr_features',\n",
       " 'imp',\n",
       " 'ls_tracked_imp',\n",
       " 'model',\n",
       " 'features']"
      ]
     },
     "execution_count": 5,
     "metadata": {},
     "output_type": "execute_result"
    }
   ],
   "source": [
    "# read model\n",
    "version = \"v07\"\n",
    "with open(\"../05_modeling/models/xgb_model_{}.mod\".format(version), \"rb\") as input_file:\n",
    "    res_model = pickle.load(input_file)\n",
    "res_model.keys()"
   ]
  },
  {
   "cell_type": "code",
   "execution_count": 6,
   "metadata": {},
   "outputs": [
    {
     "data": {
      "text/html": [
       "<div>\n",
       "<style scoped>\n",
       "    .dataframe tbody tr th:only-of-type {\n",
       "        vertical-align: middle;\n",
       "    }\n",
       "\n",
       "    .dataframe tbody tr th {\n",
       "        vertical-align: top;\n",
       "    }\n",
       "\n",
       "    .dataframe thead th {\n",
       "        text-align: right;\n",
       "    }\n",
       "</style>\n",
       "<table border=\"1\" class=\"dataframe\">\n",
       "  <thead>\n",
       "    <tr style=\"text-align: right;\">\n",
       "      <th></th>\n",
       "      <th>F-score</th>\n",
       "    </tr>\n",
       "    <tr>\n",
       "      <th>feat_name</th>\n",
       "      <th></th>\n",
       "    </tr>\n",
       "  </thead>\n",
       "  <tbody>\n",
       "    <tr>\n",
       "      <th>prev_app_NAME_PRODUCT_TYPE_walk_in_max</th>\n",
       "      <td>162.8774</td>\n",
       "    </tr>\n",
       "    <tr>\n",
       "      <th>baseline_extend_EXT_SOURCE_2</th>\n",
       "      <td>126.3244</td>\n",
       "    </tr>\n",
       "    <tr>\n",
       "      <th>baseline_extend_EXT_SOURCE_3</th>\n",
       "      <td>117.8964</td>\n",
       "    </tr>\n",
       "    <tr>\n",
       "      <th>bureau_CREDIT_DAY_OVERDUE_TO_YEARS_median</th>\n",
       "      <td>97.5458</td>\n",
       "    </tr>\n",
       "    <tr>\n",
       "      <th>NAME_EDUCATION_TYPE_Higher_education</th>\n",
       "      <td>77.9346</td>\n",
       "    </tr>\n",
       "  </tbody>\n",
       "</table>\n",
       "</div>"
      ],
      "text/plain": [
       "                                            F-score\n",
       "feat_name                                          \n",
       "prev_app_NAME_PRODUCT_TYPE_walk_in_max     162.8774\n",
       "baseline_extend_EXT_SOURCE_2               126.3244\n",
       "baseline_extend_EXT_SOURCE_3               117.8964\n",
       "bureau_CREDIT_DAY_OVERDUE_TO_YEARS_median  97.5458 \n",
       "NAME_EDUCATION_TYPE_Higher_education       77.9346 "
      ]
     },
     "execution_count": 6,
     "metadata": {},
     "output_type": "execute_result"
    }
   ],
   "source": [
    "# load most important feature set\n",
    "pdf_imp = pd.DataFrame(res_model[\"imp\"])\n",
    "pdf_imp.rename(columns= {0: \"feat_name\", 1: \"F-score\"}, inplace=True) \n",
    "pdf_imp.set_index(\"feat_name\", inplace=True)\n",
    "pdf_imp.head()"
   ]
  },
  {
   "cell_type": "code",
   "execution_count": 7,
   "metadata": {},
   "outputs": [],
   "source": [
    "# analyse tracking important features\n",
    "ls_imp = []\n",
    "for track in res_model[\"ls_tracked_imp\"]:\n",
    "    imp = pd.DataFrame(track)\n",
    "    imp.rename(columns= {0: \"feat_name\", 1: \"imp\"}, inplace=True) \n",
    "    ls_imp.append(imp)\n",
    "pdf_analysis = pd.concat(ls_imp).groupby(\"feat_name\").agg({\"imp\": [\"max\", \"min\", \"mean\", \"std\"], \"feat_name\": \"count\"})\n",
    "\n",
    "# rename columns\n",
    "name01 = pdf_analysis.columns.get_level_values(0)\n",
    "name02 = pdf_analysis.columns.get_level_values(1)\n",
    "rename_cols = [\"{}_{}\".format(tpl[0], tpl[1]) for tpl in zip(name01, name02)]\n",
    "rename_cols[-1] = \"num_chosen_by_model\"\n",
    "pdf_analysis.columns = rename_cols\n",
    "pdf_analysis = pdf_analysis.sort_values(by=\"imp_max\", ascending=False)"
   ]
  },
  {
   "cell_type": "code",
   "execution_count": 8,
   "metadata": {},
   "outputs": [
    {
     "data": {
      "text/html": [
       "<div>\n",
       "<style scoped>\n",
       "    .dataframe tbody tr th:only-of-type {\n",
       "        vertical-align: middle;\n",
       "    }\n",
       "\n",
       "    .dataframe tbody tr th {\n",
       "        vertical-align: top;\n",
       "    }\n",
       "\n",
       "    .dataframe thead th {\n",
       "        text-align: right;\n",
       "    }\n",
       "</style>\n",
       "<table border=\"1\" class=\"dataframe\">\n",
       "  <thead>\n",
       "    <tr style=\"text-align: right;\">\n",
       "      <th></th>\n",
       "      <th>imp_max</th>\n",
       "      <th>imp_min</th>\n",
       "      <th>imp_mean</th>\n",
       "      <th>imp_std</th>\n",
       "      <th>num_chosen_by_model</th>\n",
       "    </tr>\n",
       "    <tr>\n",
       "      <th>feat_name</th>\n",
       "      <th></th>\n",
       "      <th></th>\n",
       "      <th></th>\n",
       "      <th></th>\n",
       "      <th></th>\n",
       "    </tr>\n",
       "  </thead>\n",
       "  <tbody>\n",
       "    <tr>\n",
       "      <th>prev_app_NAME_PRODUCT_TYPE_walk_in_max</th>\n",
       "      <td>162.8774</td>\n",
       "      <td>71.1525</td>\n",
       "      <td>117.0150</td>\n",
       "      <td>64.8593</td>\n",
       "      <td>2</td>\n",
       "    </tr>\n",
       "    <tr>\n",
       "      <th>baseline_extend_EXT_SOURCE_2</th>\n",
       "      <td>127.9498</td>\n",
       "      <td>124.9303</td>\n",
       "      <td>126.4015</td>\n",
       "      <td>1.5112</td>\n",
       "      <td>3</td>\n",
       "    </tr>\n",
       "    <tr>\n",
       "      <th>baseline_extend_EXT_SOURCE_3</th>\n",
       "      <td>123.9631</td>\n",
       "      <td>108.6327</td>\n",
       "      <td>116.8307</td>\n",
       "      <td>7.7206</td>\n",
       "      <td>3</td>\n",
       "    </tr>\n",
       "    <tr>\n",
       "      <th>bureau_CREDIT_DAY_OVERDUE_TO_YEARS_median</th>\n",
       "      <td>97.5458</td>\n",
       "      <td>13.5619</td>\n",
       "      <td>55.5538</td>\n",
       "      <td>59.3855</td>\n",
       "      <td>2</td>\n",
       "    </tr>\n",
       "    <tr>\n",
       "      <th>NAME_EDUCATION_TYPE_Higher_education</th>\n",
       "      <td>78.8431</td>\n",
       "      <td>73.9365</td>\n",
       "      <td>76.9047</td>\n",
       "      <td>2.6104</td>\n",
       "      <td>3</td>\n",
       "    </tr>\n",
       "  </tbody>\n",
       "</table>\n",
       "</div>"
      ],
      "text/plain": [
       "                                            imp_max   imp_min  imp_mean  imp_std  num_chosen_by_model\n",
       "feat_name                                                                                            \n",
       "prev_app_NAME_PRODUCT_TYPE_walk_in_max     162.8774  71.1525   117.0150  64.8593  2                  \n",
       "baseline_extend_EXT_SOURCE_2               127.9498  124.9303  126.4015  1.5112   3                  \n",
       "baseline_extend_EXT_SOURCE_3               123.9631  108.6327  116.8307  7.7206   3                  \n",
       "bureau_CREDIT_DAY_OVERDUE_TO_YEARS_median  97.5458   13.5619   55.5538   59.3855  2                  \n",
       "NAME_EDUCATION_TYPE_Higher_education       78.8431   73.9365   76.9047   2.6104   3                  "
      ]
     },
     "execution_count": 8,
     "metadata": {},
     "output_type": "execute_result"
    }
   ],
   "source": [
    "# get top features\n",
    "pdf_analysis.head()"
   ]
  },
  {
   "cell_type": "code",
   "execution_count": 9,
   "metadata": {},
   "outputs": [
    {
     "data": {
      "text/html": [
       "<div>\n",
       "<style scoped>\n",
       "    .dataframe tbody tr th:only-of-type {\n",
       "        vertical-align: middle;\n",
       "    }\n",
       "\n",
       "    .dataframe tbody tr th {\n",
       "        vertical-align: top;\n",
       "    }\n",
       "\n",
       "    .dataframe thead th {\n",
       "        text-align: right;\n",
       "    }\n",
       "</style>\n",
       "<table border=\"1\" class=\"dataframe\">\n",
       "  <thead>\n",
       "    <tr style=\"text-align: right;\">\n",
       "      <th></th>\n",
       "      <th>imp_max</th>\n",
       "      <th>imp_min</th>\n",
       "      <th>imp_mean</th>\n",
       "      <th>imp_std</th>\n",
       "      <th>num_chosen_by_model</th>\n",
       "    </tr>\n",
       "    <tr>\n",
       "      <th>feat_name</th>\n",
       "      <th></th>\n",
       "      <th></th>\n",
       "      <th></th>\n",
       "      <th></th>\n",
       "      <th></th>\n",
       "    </tr>\n",
       "  </thead>\n",
       "  <tbody>\n",
       "    <tr>\n",
       "      <th>bureau_balance_lt1year_STATUS_Sold_sum_median</th>\n",
       "      <td>7.3072</td>\n",
       "      <td>7.3072</td>\n",
       "      <td>7.3072</td>\n",
       "      <td>NaN</td>\n",
       "      <td>1</td>\n",
       "    </tr>\n",
       "    <tr>\n",
       "      <th>pos_cash_gt3year_is_DPD_DEF_max</th>\n",
       "      <td>5.9348</td>\n",
       "      <td>5.9348</td>\n",
       "      <td>5.9348</td>\n",
       "      <td>NaN</td>\n",
       "      <td>1</td>\n",
       "    </tr>\n",
       "    <tr>\n",
       "      <th>is_REG_REGION_NOT_LIVE_REGION</th>\n",
       "      <td>5.1233</td>\n",
       "      <td>5.1233</td>\n",
       "      <td>5.1233</td>\n",
       "      <td>NaN</td>\n",
       "      <td>1</td>\n",
       "    </tr>\n",
       "    <tr>\n",
       "      <th>ORGANIZATION_TYPE_Other</th>\n",
       "      <td>5.1182</td>\n",
       "      <td>5.1182</td>\n",
       "      <td>5.1182</td>\n",
       "      <td>NaN</td>\n",
       "      <td>1</td>\n",
       "    </tr>\n",
       "    <tr>\n",
       "      <th>bureau_balance_STATUS_Sold_sum_std</th>\n",
       "      <td>3.5234</td>\n",
       "      <td>3.5234</td>\n",
       "      <td>3.5234</td>\n",
       "      <td>NaN</td>\n",
       "      <td>1</td>\n",
       "    </tr>\n",
       "  </tbody>\n",
       "</table>\n",
       "</div>"
      ],
      "text/plain": [
       "                                               imp_max  imp_min  imp_mean  imp_std  num_chosen_by_model\n",
       "feat_name                                                                                              \n",
       "bureau_balance_lt1year_STATUS_Sold_sum_median  7.3072   7.3072   7.3072   NaN       1                  \n",
       "pos_cash_gt3year_is_DPD_DEF_max                5.9348   5.9348   5.9348   NaN       1                  \n",
       "is_REG_REGION_NOT_LIVE_REGION                  5.1233   5.1233   5.1233   NaN       1                  \n",
       "ORGANIZATION_TYPE_Other                        5.1182   5.1182   5.1182   NaN       1                  \n",
       "bureau_balance_STATUS_Sold_sum_std             3.5234   3.5234   3.5234   NaN       1                  "
      ]
     },
     "execution_count": 9,
     "metadata": {},
     "output_type": "execute_result"
    }
   ],
   "source": [
    "# get tail features\n",
    "pdf_analysis.tail()"
   ]
  },
  {
   "cell_type": "markdown",
   "metadata": {},
   "source": [
    "# Analysis"
   ]
  },
  {
   "cell_type": "code",
   "execution_count": 10,
   "metadata": {},
   "outputs": [],
   "source": [
    "def plot_distribution_over_target(pdf_input, cname):\n",
    "    fig, axes = plt.subplots(nrows=1, ncols=3, figsize=(15, 5))\n",
    "    \n",
    "    #\n",
    "    pdf_input.groupby(\"TARGET\")[cname].plot(kind='kde', ax=axes[0], rot=45)\n",
    "    pdf_input.groupby(\"TARGET\")[cname].hist(bins=100, ax=axes[1], xrot=45)\n",
    "    pdf_input.boxplot(column=cname, by='TARGET', ax=axes[2])\n",
    "    \n",
    "    #\n",
    "    plt.suptitle(\"Distribution of {} (0: blue, 1: red)\".format(cname))\n",
    "    plt.show()\n",
    "    \n",
    "def my_auc(y_score, y_true, flexible_sign=True):\n",
    "    # filter NaN\n",
    "    idx = np.isfinite(y_score)\n",
    "    xxx = y_score[idx]\n",
    "    yyy = y_true[idx]\n",
    "\n",
    "    # if label not only 1s/0s\n",
    "    if yyy.std() > 0.0:\n",
    "        auc = metrics.roc_auc_score(y_score=xxx, y_true=yyy)\n",
    "    else:\n",
    "        auc = 0.5\n",
    "\n",
    "    # for evaluation only\n",
    "    if (auc < 0.5) & (flexible_sign):\n",
    "        auc = 1.0 - auc\n",
    "    return auc\n",
    "\n",
    "def feature_evaluate(pdf_feat_label, ls_feat=None):\n",
    "    out_res = {\n",
    "        \"feat_name\": [],\n",
    "        \"auc\": [],\n",
    "        \"corr\": [],\n",
    "        \"coverage\": []\n",
    "    }\n",
    "\n",
    "    # calculate correlation\n",
    "    pdf_corr = pdf_feat_label[[\"TARGET\"] + ls_feat].corr()\n",
    "\n",
    "    for feat in ls_feat:\n",
    "        out_res[\"feat_name\"].append(feat)\n",
    "        out_res[\"auc\"].append(my_auc(pdf_feat_label[feat], pdf_feat_label[\"TARGET\"]))\n",
    "        out_res[\"corr\"].append(pdf_corr.loc[feat, \"TARGET\"])\n",
    "        out_res[\"coverage\"].append((~pdf_feat_label[feat].isna()).mean())\n",
    "\n",
    "    #\n",
    "    pdf_res = pd.DataFrame(out_res)\n",
    "    pdf_res = pdf_res[[\"feat_name\", \"auc\", \"corr\", \"coverage\"]].sort_values(by=\"auc\", ascending=False)\n",
    "    pdf_res.set_index(\"feat_name\", inplace=True)\n",
    "    return pdf_res"
   ]
  },
  {
   "cell_type": "code",
   "execution_count": 11,
   "metadata": {},
   "outputs": [
    {
     "data": {
      "text/html": [
       "<div>\n",
       "<style scoped>\n",
       "    .dataframe tbody tr th:only-of-type {\n",
       "        vertical-align: middle;\n",
       "    }\n",
       "\n",
       "    .dataframe tbody tr th {\n",
       "        vertical-align: top;\n",
       "    }\n",
       "\n",
       "    .dataframe thead th {\n",
       "        text-align: right;\n",
       "    }\n",
       "</style>\n",
       "<table border=\"1\" class=\"dataframe\">\n",
       "  <thead>\n",
       "    <tr style=\"text-align: right;\">\n",
       "      <th></th>\n",
       "      <th>imp_max</th>\n",
       "      <th>imp_min</th>\n",
       "      <th>imp_mean</th>\n",
       "      <th>imp_std</th>\n",
       "      <th>num_chosen_by_model</th>\n",
       "      <th>auc</th>\n",
       "      <th>corr</th>\n",
       "      <th>coverage</th>\n",
       "    </tr>\n",
       "    <tr>\n",
       "      <th>feat_name</th>\n",
       "      <th></th>\n",
       "      <th></th>\n",
       "      <th></th>\n",
       "      <th></th>\n",
       "      <th></th>\n",
       "      <th></th>\n",
       "      <th></th>\n",
       "      <th></th>\n",
       "    </tr>\n",
       "  </thead>\n",
       "  <tbody>\n",
       "    <tr>\n",
       "      <th>prev_app_NAME_PRODUCT_TYPE_walk_in_max</th>\n",
       "      <td>162.8774</td>\n",
       "      <td>71.1525</td>\n",
       "      <td>117.0150</td>\n",
       "      <td>64.8593</td>\n",
       "      <td>2</td>\n",
       "      <td>0.5468</td>\n",
       "      <td>0.0595</td>\n",
       "      <td>0.9467</td>\n",
       "    </tr>\n",
       "    <tr>\n",
       "      <th>baseline_extend_EXT_SOURCE_2</th>\n",
       "      <td>127.9498</td>\n",
       "      <td>124.9303</td>\n",
       "      <td>126.4015</td>\n",
       "      <td>1.5112</td>\n",
       "      <td>3</td>\n",
       "      <td>0.6559</td>\n",
       "      <td>-0.1602</td>\n",
       "      <td>0.9978</td>\n",
       "    </tr>\n",
       "    <tr>\n",
       "      <th>credit_card_balance_AMT_DRAWINGS_CURRENT_min</th>\n",
       "      <td>10.4587</td>\n",
       "      <td>6.8901</td>\n",
       "      <td>8.2056</td>\n",
       "      <td>1.9604</td>\n",
       "      <td>3</td>\n",
       "      <td>0.5124</td>\n",
       "      <td>0.0158</td>\n",
       "      <td>0.2824</td>\n",
       "    </tr>\n",
       "  </tbody>\n",
       "</table>\n",
       "</div>"
      ],
      "text/plain": [
       "                                               imp_max   imp_min  imp_mean  imp_std  num_chosen_by_model     auc    corr  coverage\n",
       "feat_name                                                                                                                         \n",
       "prev_app_NAME_PRODUCT_TYPE_walk_in_max        162.8774  71.1525   117.0150  64.8593  2                    0.5468  0.0595  0.9467  \n",
       "baseline_extend_EXT_SOURCE_2                  127.9498  124.9303  126.4015  1.5112   3                    0.6559 -0.1602  0.9978  \n",
       "credit_card_balance_AMT_DRAWINGS_CURRENT_min  10.4587   6.8901    8.2056    1.9604   3                    0.5124  0.0158  0.2824  "
      ]
     },
     "execution_count": 11,
     "metadata": {},
     "output_type": "execute_result"
    }
   ],
   "source": [
    "ls_feat = [\"prev_app_NAME_PRODUCT_TYPE_walk_in_max\", \"baseline_extend_EXT_SOURCE_2\", \"credit_card_balance_AMT_DRAWINGS_CURRENT_min\"]\n",
    "pdf_eval01 = feature_evaluate(pdf_train, ls_feat=ls_feat)\n",
    "pdf_eval01 = pdf_analysis.join(pdf_eval01, how=\"inner\")\n",
    "pdf_eval01"
   ]
  },
  {
   "cell_type": "markdown",
   "metadata": {},
   "source": [
    "# AUC\n",
    "\n",
    "Seperate càng cao thì càng tốt "
   ]
  },
  {
   "cell_type": "code",
   "execution_count": 12,
   "metadata": {},
   "outputs": [
    {
     "data": {
      "image/png": "[encoded data removed]",
      "text/plain": [
       "<Figure size 432x288 with 1 Axes>"
      ]
     },
     "metadata": {},
     "output_type": "display_data"
    }
   ],
   "source": [
    "pdf0 = pdf_train.query(\"TARGET == 0\")\n",
    "pdf1 = pdf_train.query(\"TARGET == 1\")\n",
    "\n",
    "fig, ax = plt.subplots()\n",
    "pdf0[\"prev_app_NAME_PRODUCT_TYPE_walk_in_max\"].value_counts().plot(kind=\"bar\", ax=ax, color=\"blue\")\n",
    "pdf1[\"prev_app_NAME_PRODUCT_TYPE_walk_in_max\"].value_counts().plot(kind=\"bar\", ax=ax, color=\"red\")\n",
    "plt.show()"
   ]
  },
  {
   "cell_type": "code",
   "execution_count": 13,
   "metadata": {},
   "outputs": [
    {
     "data": {
      "text/html": [
       "<div>\n",
       "<style scoped>\n",
       "    .dataframe tbody tr th:only-of-type {\n",
       "        vertical-align: middle;\n",
       "    }\n",
       "\n",
       "    .dataframe tbody tr th {\n",
       "        vertical-align: top;\n",
       "    }\n",
       "\n",
       "    .dataframe thead th {\n",
       "        text-align: right;\n",
       "    }\n",
       "</style>\n",
       "<table border=\"1\" class=\"dataframe\">\n",
       "  <thead>\n",
       "    <tr style=\"text-align: right;\">\n",
       "      <th></th>\n",
       "      <th>imp_max</th>\n",
       "      <th>imp_min</th>\n",
       "      <th>imp_mean</th>\n",
       "      <th>imp_std</th>\n",
       "      <th>num_chosen_by_model</th>\n",
       "      <th>auc</th>\n",
       "      <th>corr</th>\n",
       "      <th>coverage</th>\n",
       "    </tr>\n",
       "  </thead>\n",
       "  <tbody>\n",
       "    <tr>\n",
       "      <th>baseline_extend_EXT_SOURCE_2</th>\n",
       "      <td>127.9498</td>\n",
       "      <td>124.9303</td>\n",
       "      <td>126.4015</td>\n",
       "      <td>1.5112</td>\n",
       "      <td>3.0</td>\n",
       "      <td>0.6559</td>\n",
       "      <td>-0.1602</td>\n",
       "      <td>0.9978</td>\n",
       "    </tr>\n",
       "  </tbody>\n",
       "</table>\n",
       "</div>"
      ],
      "text/plain": [
       "                               imp_max   imp_min  imp_mean  imp_std  num_chosen_by_model     auc    corr  coverage\n",
       "baseline_extend_EXT_SOURCE_2  127.9498  124.9303  126.4015  1.5112   3.0                  0.6559 -0.1602  0.9978  "
      ]
     },
     "metadata": {},
     "output_type": "display_data"
    },
    {
     "data": {
      "image/png": "[encoded data removed]",
      "text/plain": [
       "<Figure size 1080x360 with 3 Axes>"
      ]
     },
     "metadata": {},
     "output_type": "display_data"
    }
   ],
   "source": [
    "attr = \"baseline_extend_EXT_SOURCE_2\"\n",
    "display(pdf_eval01.loc[attr].to_frame().T)\n",
    "plot_distribution_over_target(pdf_train, attr)"
   ]
  },
  {
   "cell_type": "code",
   "execution_count": 14,
   "metadata": {},
   "outputs": [
    {
     "data": {
      "text/html": [
       "<div>\n",
       "<style scoped>\n",
       "    .dataframe tbody tr th:only-of-type {\n",
       "        vertical-align: middle;\n",
       "    }\n",
       "\n",
       "    .dataframe tbody tr th {\n",
       "        vertical-align: top;\n",
       "    }\n",
       "\n",
       "    .dataframe thead th {\n",
       "        text-align: right;\n",
       "    }\n",
       "</style>\n",
       "<table border=\"1\" class=\"dataframe\">\n",
       "  <thead>\n",
       "    <tr style=\"text-align: right;\">\n",
       "      <th></th>\n",
       "      <th>imp_max</th>\n",
       "      <th>imp_min</th>\n",
       "      <th>imp_mean</th>\n",
       "      <th>imp_std</th>\n",
       "      <th>num_chosen_by_model</th>\n",
       "      <th>auc</th>\n",
       "      <th>corr</th>\n",
       "      <th>coverage</th>\n",
       "    </tr>\n",
       "  </thead>\n",
       "  <tbody>\n",
       "    <tr>\n",
       "      <th>credit_card_balance_AMT_DRAWINGS_CURRENT_min</th>\n",
       "      <td>10.4587</td>\n",
       "      <td>6.8901</td>\n",
       "      <td>8.2056</td>\n",
       "      <td>1.9604</td>\n",
       "      <td>3.0</td>\n",
       "      <td>0.5124</td>\n",
       "      <td>0.0158</td>\n",
       "      <td>0.2824</td>\n",
       "    </tr>\n",
       "  </tbody>\n",
       "</table>\n",
       "</div>"
      ],
      "text/plain": [
       "                                              imp_max  imp_min  imp_mean  imp_std  num_chosen_by_model     auc    corr  coverage\n",
       "credit_card_balance_AMT_DRAWINGS_CURRENT_min  10.4587  6.8901   8.2056    1.9604   3.0                  0.5124  0.0158  0.2824  "
      ]
     },
     "metadata": {},
     "output_type": "display_data"
    },
    {
     "data": {
      "image/png": "[encoded data removed]",
      "text/plain": [
       "<Figure size 1080x360 with 3 Axes>"
      ]
     },
     "metadata": {},
     "output_type": "display_data"
    }
   ],
   "source": [
    "attr = \"credit_card_balance_AMT_DRAWINGS_CURRENT_min\"\n",
    "display(pdf_eval01.loc[attr].to_frame().T)\n",
    "plot_distribution_over_target(pdf_train, attr)"
   ]
  },
  {
   "cell_type": "markdown",
   "metadata": {},
   "source": [
    "# Correlation\n",
    "\n",
    "Tương quan càng cao càng tốt"
   ]
  },
  {
   "cell_type": "code",
   "execution_count": 15,
   "metadata": {},
   "outputs": [
    {
     "data": {
      "text/html": [
       "<div>\n",
       "<style scoped>\n",
       "    .dataframe tbody tr th:only-of-type {\n",
       "        vertical-align: middle;\n",
       "    }\n",
       "\n",
       "    .dataframe tbody tr th {\n",
       "        vertical-align: top;\n",
       "    }\n",
       "\n",
       "    .dataframe thead th {\n",
       "        text-align: right;\n",
       "    }\n",
       "</style>\n",
       "<table border=\"1\" class=\"dataframe\">\n",
       "  <thead>\n",
       "    <tr style=\"text-align: right;\">\n",
       "      <th></th>\n",
       "      <th>TARGET</th>\n",
       "      <th>baseline_extend_EXT_SOURCE_2</th>\n",
       "      <th>credit_card_balance_AMT_DRAWINGS_CURRENT_min</th>\n",
       "    </tr>\n",
       "  </thead>\n",
       "  <tbody>\n",
       "    <tr>\n",
       "      <th>TARGET</th>\n",
       "      <td>1.0000</td>\n",
       "      <td>-0.1602</td>\n",
       "      <td>0.0158</td>\n",
       "    </tr>\n",
       "    <tr>\n",
       "      <th>baseline_extend_EXT_SOURCE_2</th>\n",
       "      <td>-0.1602</td>\n",
       "      <td>1.0000</td>\n",
       "      <td>-0.0081</td>\n",
       "    </tr>\n",
       "    <tr>\n",
       "      <th>credit_card_balance_AMT_DRAWINGS_CURRENT_min</th>\n",
       "      <td>0.0158</td>\n",
       "      <td>-0.0081</td>\n",
       "      <td>1.0000</td>\n",
       "    </tr>\n",
       "  </tbody>\n",
       "</table>\n",
       "</div>"
      ],
      "text/plain": [
       "                                              TARGET  baseline_extend_EXT_SOURCE_2  credit_card_balance_AMT_DRAWINGS_CURRENT_min\n",
       "TARGET                                        1.0000 -0.1602                        0.0158                                      \n",
       "baseline_extend_EXT_SOURCE_2                 -0.1602  1.0000                       -0.0081                                      \n",
       "credit_card_balance_AMT_DRAWINGS_CURRENT_min  0.0158 -0.0081                        1.0000                                      "
      ]
     },
     "execution_count": 15,
     "metadata": {},
     "output_type": "execute_result"
    }
   ],
   "source": [
    "pdf_train[[\"TARGET\", \"baseline_extend_EXT_SOURCE_2\", \"credit_card_balance_AMT_DRAWINGS_CURRENT_min\"]].corr()"
   ]
  },
  {
   "cell_type": "markdown",
   "metadata": {},
   "source": [
    "# Coverage\n",
    "\n",
    "Null càng ít càng tốt"
   ]
  },
  {
   "cell_type": "code",
   "execution_count": 16,
   "metadata": {},
   "outputs": [
    {
     "data": {
      "text/plain": [
       "0.0022217305529435624"
      ]
     },
     "execution_count": 16,
     "metadata": {},
     "output_type": "execute_result"
    }
   ],
   "source": [
    "pdf_train[\"baseline_extend_EXT_SOURCE_2\"].isna().mean()"
   ]
  },
  {
   "cell_type": "code",
   "execution_count": 17,
   "metadata": {},
   "outputs": [
    {
     "data": {
      "text/plain": [
       "0.717600531002821"
      ]
     },
     "execution_count": 17,
     "metadata": {},
     "output_type": "execute_result"
    }
   ],
   "source": [
    "pdf_train[\"credit_card_balance_AMT_DRAWINGS_CURRENT_min\"].isna().mean()"
   ]
  }
 ],
 "metadata": {
  "kernelspec": {
   "display_name": "Python 2",
   "language": "python",
   "name": "python2"
  },
  "language_info": {
   "codemirror_mode": {
    "name": "ipython",
    "version": 2
   },
   "file_extension": ".py",
   "mimetype": "text/x-python",
   "name": "python",
   "nbconvert_exporter": "python",
   "pygments_lexer": "ipython2",
   "version": "2.7.15"
  }
 },
 "nbformat": 4,
 "nbformat_minor": 2
}
