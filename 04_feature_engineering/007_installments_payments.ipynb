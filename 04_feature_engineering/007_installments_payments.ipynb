{
 "cells": [
  {
   "cell_type": "code",
   "execution_count": 1,
   "metadata": {},
   "outputs": [
    {
     "data": {
      "text/html": [
       "<style>.container { width:100% !important; }</style>"
      ],
      "text/plain": [
       "<IPython.core.display.HTML object>"
      ]
     },
     "metadata": {},
     "output_type": "display_data"
    }
   ],
   "source": [
    "# Full width\n",
    "from IPython.core.display import display, HTML\n",
    "display(HTML(\"<style>.container { width:100% !important; }</style>\"))"
   ]
  },
  {
   "cell_type": "code",
   "execution_count": 2,
   "metadata": {},
   "outputs": [],
   "source": [
    "%load_ext autoreload\n",
    "%autoreload 2"
   ]
  },
  {
   "cell_type": "code",
   "execution_count": 3,
   "metadata": {},
   "outputs": [],
   "source": [
    "import math\n",
    "import os\n",
    "import subprocess\n",
    "\n",
    "import matplotlib.pyplot as plt\n",
    "import numpy as np\n",
    "import pandas as pd\n",
    "from IPython.display import display\n",
    "\n",
    "# \n",
    "from lib_modeling import *\n",
    "from lib_feature_engineering import *\n",
    "\n",
    "# some settings for displaying Pandas results\n",
    "pd.set_option('display.width', 2000)\n",
    "pd.set_option('display.max_rows', 500)\n",
    "pd.set_option('display.max_columns', 500)\n",
    "pd.set_option('display.precision', 4)\n",
    "pd.set_option('display.max_colwidth', -1)"
   ]
  },
  {
   "cell_type": "markdown",
   "metadata": {},
   "source": [
    "# Load data\n",
    "\n",
    "- Load train + tvt = train_filtered for features evaluation\n",
    "- Load train/test for applying mean encoding"
   ]
  },
  {
   "cell_type": "code",
   "execution_count": 4,
   "metadata": {},
   "outputs": [
    {
     "data": {
      "text/html": [
       "<div>\n",
       "<style scoped>\n",
       "    .dataframe tbody tr th:only-of-type {\n",
       "        vertical-align: middle;\n",
       "    }\n",
       "\n",
       "    .dataframe tbody tr th {\n",
       "        vertical-align: top;\n",
       "    }\n",
       "\n",
       "    .dataframe thead th {\n",
       "        text-align: right;\n",
       "    }\n",
       "</style>\n",
       "<table border=\"1\" class=\"dataframe\">\n",
       "  <thead>\n",
       "    <tr style=\"text-align: right;\">\n",
       "      <th></th>\n",
       "      <th>SK_ID_CURR</th>\n",
       "      <th>TARGET</th>\n",
       "    </tr>\n",
       "  </thead>\n",
       "  <tbody>\n",
       "    <tr>\n",
       "      <th>0</th>\n",
       "      <td>100002</td>\n",
       "      <td>1</td>\n",
       "    </tr>\n",
       "    <tr>\n",
       "      <th>1</th>\n",
       "      <td>100003</td>\n",
       "      <td>0</td>\n",
       "    </tr>\n",
       "    <tr>\n",
       "      <th>2</th>\n",
       "      <td>100004</td>\n",
       "      <td>0</td>\n",
       "    </tr>\n",
       "    <tr>\n",
       "      <th>3</th>\n",
       "      <td>100006</td>\n",
       "      <td>0</td>\n",
       "    </tr>\n",
       "    <tr>\n",
       "      <th>4</th>\n",
       "      <td>100007</td>\n",
       "      <td>0</td>\n",
       "    </tr>\n",
       "  </tbody>\n",
       "</table>\n",
       "</div>"
      ],
      "text/plain": [
       "   SK_ID_CURR  TARGET\n",
       "0  100002      1     \n",
       "1  100003      0     \n",
       "2  100004      0     \n",
       "3  100006      0     \n",
       "4  100007      0     "
      ]
     },
     "execution_count": 4,
     "metadata": {},
     "output_type": "execute_result"
    }
   ],
   "source": [
    "# load train/test data\n",
    "data_path = \"home-credit-default-risk/application_train.csv\"\n",
    "pdf_train = pd.read_csv(data_path)\n",
    "\n",
    "data_path = \"home-credit-default-risk/application_test.csv\"\n",
    "pdf_test = pd.read_csv(data_path)\n",
    "\n",
    "# filter by tvt code\n",
    "pdf_tvt_extend = pd.read_pickle(\"pdf_tvt_extend.pkl\", compression=\"bz2\")\n",
    "pdf_train_filtered = (pdf_tvt_extend.query(\"tvt_code == 'train'\")\n",
    "                      .merge(pdf_train[[\"SK_ID_CURR\"]], on=\"SK_ID_CURR\")\n",
    "                      .drop(columns=[\"tvt_code\"]))\n",
    "pdf_train_filtered.head()"
   ]
  },
  {
   "cell_type": "code",
   "execution_count": 5,
   "metadata": {},
   "outputs": [
    {
     "name": "stdout",
     "output_type": "stream",
     "text": [
      "(13605401, 8)\n"
     ]
    },
    {
     "data": {
      "text/html": [
       "<div>\n",
       "<style scoped>\n",
       "    .dataframe tbody tr th:only-of-type {\n",
       "        vertical-align: middle;\n",
       "    }\n",
       "\n",
       "    .dataframe tbody tr th {\n",
       "        vertical-align: top;\n",
       "    }\n",
       "\n",
       "    .dataframe thead th {\n",
       "        text-align: right;\n",
       "    }\n",
       "</style>\n",
       "<table border=\"1\" class=\"dataframe\">\n",
       "  <thead>\n",
       "    <tr style=\"text-align: right;\">\n",
       "      <th></th>\n",
       "      <th>SK_ID_PREV</th>\n",
       "      <th>SK_ID_CURR</th>\n",
       "      <th>NUM_INSTALMENT_VERSION</th>\n",
       "      <th>NUM_INSTALMENT_NUMBER</th>\n",
       "      <th>DAYS_INSTALMENT</th>\n",
       "      <th>DAYS_ENTRY_PAYMENT</th>\n",
       "      <th>AMT_INSTALMENT</th>\n",
       "      <th>AMT_PAYMENT</th>\n",
       "    </tr>\n",
       "  </thead>\n",
       "  <tbody>\n",
       "    <tr>\n",
       "      <th>0</th>\n",
       "      <td>1054186</td>\n",
       "      <td>161674</td>\n",
       "      <td>1.0</td>\n",
       "      <td>6</td>\n",
       "      <td>-1180.0</td>\n",
       "      <td>-1187.0</td>\n",
       "      <td>6948.360</td>\n",
       "      <td>6948.360</td>\n",
       "    </tr>\n",
       "    <tr>\n",
       "      <th>1</th>\n",
       "      <td>1330831</td>\n",
       "      <td>151639</td>\n",
       "      <td>0.0</td>\n",
       "      <td>34</td>\n",
       "      <td>-2156.0</td>\n",
       "      <td>-2156.0</td>\n",
       "      <td>1716.525</td>\n",
       "      <td>1716.525</td>\n",
       "    </tr>\n",
       "    <tr>\n",
       "      <th>2</th>\n",
       "      <td>2085231</td>\n",
       "      <td>193053</td>\n",
       "      <td>2.0</td>\n",
       "      <td>1</td>\n",
       "      <td>-63.0</td>\n",
       "      <td>-63.0</td>\n",
       "      <td>25425.000</td>\n",
       "      <td>25425.000</td>\n",
       "    </tr>\n",
       "    <tr>\n",
       "      <th>3</th>\n",
       "      <td>2452527</td>\n",
       "      <td>199697</td>\n",
       "      <td>1.0</td>\n",
       "      <td>3</td>\n",
       "      <td>-2418.0</td>\n",
       "      <td>-2426.0</td>\n",
       "      <td>24350.130</td>\n",
       "      <td>24350.130</td>\n",
       "    </tr>\n",
       "    <tr>\n",
       "      <th>4</th>\n",
       "      <td>2714724</td>\n",
       "      <td>167756</td>\n",
       "      <td>1.0</td>\n",
       "      <td>2</td>\n",
       "      <td>-1383.0</td>\n",
       "      <td>-1366.0</td>\n",
       "      <td>2165.040</td>\n",
       "      <td>2160.585</td>\n",
       "    </tr>\n",
       "  </tbody>\n",
       "</table>\n",
       "</div>"
      ],
      "text/plain": [
       "   SK_ID_PREV  SK_ID_CURR  NUM_INSTALMENT_VERSION  NUM_INSTALMENT_NUMBER  DAYS_INSTALMENT  DAYS_ENTRY_PAYMENT  AMT_INSTALMENT  AMT_PAYMENT\n",
       "0  1054186     161674      1.0                     6                     -1180.0          -1187.0              6948.360        6948.360   \n",
       "1  1330831     151639      0.0                     34                    -2156.0          -2156.0              1716.525        1716.525   \n",
       "2  2085231     193053      2.0                     1                     -63.0            -63.0                25425.000       25425.000  \n",
       "3  2452527     199697      1.0                     3                     -2418.0          -2426.0              24350.130       24350.130  \n",
       "4  2714724     167756      1.0                     2                     -1383.0          -1366.0              2165.040        2160.585   "
      ]
     },
     "execution_count": 5,
     "metadata": {},
     "output_type": "execute_result"
    }
   ],
   "source": [
    "# load previous application\n",
    "data_path = \"home-credit-default-risk/installments_payments.csv\"\n",
    "pdf_data = pd.read_csv(data_path)\n",
    "print(pdf_data.shape)\n",
    "pdf_data.head()"
   ]
  },
  {
   "cell_type": "code",
   "execution_count": 6,
   "metadata": {},
   "outputs": [],
   "source": [
    "# load meta data\n",
    "meta_path = \"../02_pandas/reports/report_installments_payments.csv\"\n",
    "pdf_meta = pd.read_csv(meta_path)"
   ]
  },
  {
   "cell_type": "markdown",
   "metadata": {},
   "source": [
    "# Preprocessing"
   ]
  },
  {
   "cell_type": "code",
   "execution_count": 7,
   "metadata": {},
   "outputs": [
    {
     "data": {
      "image/png": "[encoded data removed]",
      "text/plain": [
       "<Figure size 432x288 with 1 Axes>"
      ]
     },
     "metadata": {},
     "output_type": "display_data"
    }
   ],
   "source": [
    "(pdf_data[\"DAYS_INSTALMENT\"] / -365).hist()\n",
    "plt.show()"
   ]
  },
  {
   "cell_type": "code",
   "execution_count": 8,
   "metadata": {},
   "outputs": [],
   "source": [
    "# convert to years\n",
    "pdf_data[\"DAYS_INSTALMENT_TO_YEARS\"] = pdf_data[\"DAYS_INSTALMENT\"] / -365\n",
    "pdf_data.drop(columns=[\"DAYS_INSTALMENT\"], inplace=True)"
   ]
  },
  {
   "cell_type": "code",
   "execution_count": 9,
   "metadata": {},
   "outputs": [
    {
     "data": {
      "text/plain": [
       "count    1.3605e+07\n",
       "mean     1.8364e+02\n",
       "std      1.9125e+04\n",
       "min     -2.4247e+06\n",
       "25%      0.0000e+00\n",
       "50%      0.0000e+00\n",
       "75%      0.0000e+00\n",
       "max      2.6309e+06\n",
       "Name: diff_amount, dtype: float64"
      ]
     },
     "execution_count": 9,
     "metadata": {},
     "output_type": "execute_result"
    }
   ],
   "source": [
    "# calculate different amount\n",
    "pdf_data[\"AMT_PAYMENT\"].fillna(0, inplace=True)\n",
    "pdf_data[\"diff_amount\"] = pdf_data[\"AMT_PAYMENT\"] - pdf_data[\"AMT_INSTALMENT\"]\n",
    "pdf_data[\"diff_amount\"].describe()"
   ]
  },
  {
   "cell_type": "markdown",
   "metadata": {},
   "source": [
    "## filter data here for looking up balance within years"
   ]
  },
  {
   "cell_type": "code",
   "execution_count": 10,
   "metadata": {},
   "outputs": [],
   "source": [
    "# pdf_data = pdf_data[(pdf_data[\"DAYS_INSTALMENT_TO_YEARS\"] >= 1) & (pdf_data[\"DAYS_INSTALMENT_TO_YEARS\"] < 2)]\n",
    "# pdf_data = pdf_data[(pdf_data[\"DAYS_INSTALMENT_TO_YEARS\"] >= 2) & (pdf_data[\"DAYS_INSTALMENT_TO_YEARS\"] < 3)]\n",
    "# pdf_data = pdf_data[pdf_data[\"DAYS_INSTALMENT_TO_YEARS\"] >= 3]\n",
    "# print(pdf_data.shape)"
   ]
  },
  {
   "cell_type": "markdown",
   "metadata": {},
   "source": [
    "# Numerical features"
   ]
  },
  {
   "cell_type": "code",
   "execution_count": 11,
   "metadata": {},
   "outputs": [
    {
     "data": {
      "text/plain": [
       "{'NUM_INSTALMENT_NUMBER': ['max', 'min', 'sum', 'mean', 'std']}"
      ]
     },
     "metadata": {},
     "output_type": "display_data"
    },
    {
     "name": "stdout",
     "output_type": "stream",
     "text": [
      "After agg: (339587, 5)\n"
     ]
    },
    {
     "data": {
      "text/html": [
       "<div>\n",
       "<style scoped>\n",
       "    .dataframe tbody tr th:only-of-type {\n",
       "        vertical-align: middle;\n",
       "    }\n",
       "\n",
       "    .dataframe tbody tr th {\n",
       "        vertical-align: top;\n",
       "    }\n",
       "\n",
       "    .dataframe thead th {\n",
       "        text-align: right;\n",
       "    }\n",
       "</style>\n",
       "<table border=\"1\" class=\"dataframe\">\n",
       "  <thead>\n",
       "    <tr style=\"text-align: right;\">\n",
       "      <th></th>\n",
       "      <th>name</th>\n",
       "      <th>auc</th>\n",
       "      <th>corr</th>\n",
       "      <th>coverage</th>\n",
       "    </tr>\n",
       "  </thead>\n",
       "  <tbody>\n",
       "    <tr>\n",
       "      <th>2</th>\n",
       "      <td>NUM_INSTALMENT_NUMBER_sum</td>\n",
       "      <td>0.5124</td>\n",
       "      <td>-0.0177</td>\n",
       "      <td>1.0000</td>\n",
       "    </tr>\n",
       "    <tr>\n",
       "      <th>3</th>\n",
       "      <td>NUM_INSTALMENT_NUMBER_mean</td>\n",
       "      <td>0.5071</td>\n",
       "      <td>-0.0099</td>\n",
       "      <td>1.0000</td>\n",
       "    </tr>\n",
       "    <tr>\n",
       "      <th>4</th>\n",
       "      <td>NUM_INSTALMENT_NUMBER_std</td>\n",
       "      <td>0.5049</td>\n",
       "      <td>0.0031</td>\n",
       "      <td>0.9975</td>\n",
       "    </tr>\n",
       "    <tr>\n",
       "      <th>0</th>\n",
       "      <td>NUM_INSTALMENT_NUMBER_max</td>\n",
       "      <td>0.5018</td>\n",
       "      <td>0.0044</td>\n",
       "      <td>1.0000</td>\n",
       "    </tr>\n",
       "    <tr>\n",
       "      <th>1</th>\n",
       "      <td>NUM_INSTALMENT_NUMBER_min</td>\n",
       "      <td>0.5001</td>\n",
       "      <td>-0.0010</td>\n",
       "      <td>1.0000</td>\n",
       "    </tr>\n",
       "  </tbody>\n",
       "</table>\n",
       "</div>"
      ],
      "text/plain": [
       "                         name     auc    corr  coverage\n",
       "2  NUM_INSTALMENT_NUMBER_sum   0.5124 -0.0177  1.0000  \n",
       "3  NUM_INSTALMENT_NUMBER_mean  0.5071 -0.0099  1.0000  \n",
       "4  NUM_INSTALMENT_NUMBER_std   0.5049  0.0031  0.9975  \n",
       "0  NUM_INSTALMENT_NUMBER_max   0.5018  0.0044  1.0000  \n",
       "1  NUM_INSTALMENT_NUMBER_min   0.5001 -0.0010  1.0000  "
      ]
     },
     "metadata": {},
     "output_type": "display_data"
    },
    {
     "name": "stdout",
     "output_type": "stream",
     "text": [
      "CPU times: user 7.51 s, sys: 1.2 s, total: 8.71 s\n",
      "Wall time: 2.66 s\n"
     ]
    }
   ],
   "source": [
    "%%time\n",
    "pdf_agg02 = agg_common_data(pdf_data[[\"SK_ID_CURR\", \"NUM_INSTALMENT_NUMBER\"]], [\"max\", \"min\", \"sum\", \"mean\", \"std\"], main_key=\"SK_ID_CURR\")\n",
    "eval_agg02 = feature_evaluate(pdf_train_filtered, pdf_agg02)\n",
    "display(eval_agg02)"
   ]
  },
  {
   "cell_type": "markdown",
   "metadata": {},
   "source": [
    "# Continuous features"
   ]
  },
  {
   "cell_type": "code",
   "execution_count": 12,
   "metadata": {},
   "outputs": [
    {
     "data": {
      "text/plain": [
       "['NUM_INSTALMENT_VERSION',\n",
       " 'DAYS_ENTRY_PAYMENT',\n",
       " 'AMT_INSTALMENT',\n",
       " 'AMT_PAYMENT',\n",
       " 'DAYS_INSTALMENT_TO_YEARS',\n",
       " 'diff_amount']"
      ]
     },
     "execution_count": 12,
     "metadata": {},
     "output_type": "execute_result"
    }
   ],
   "source": [
    "# get list continuous attributes\n",
    "# ls_con = pdf_meta.query(\"sub_type == 'float64'\")[\"name\"].tolist()\n",
    "series_type = pdf_data.dtypes\n",
    "ls_con = series_type[series_type == \"float64\"].index.tolist()\n",
    "ls_con"
   ]
  },
  {
   "cell_type": "code",
   "execution_count": 13,
   "metadata": {},
   "outputs": [
    {
     "data": {
      "text/html": [
       "<div>\n",
       "<style scoped>\n",
       "    .dataframe tbody tr th:only-of-type {\n",
       "        vertical-align: middle;\n",
       "    }\n",
       "\n",
       "    .dataframe tbody tr th {\n",
       "        vertical-align: top;\n",
       "    }\n",
       "\n",
       "    .dataframe thead th {\n",
       "        text-align: right;\n",
       "    }\n",
       "</style>\n",
       "<table border=\"1\" class=\"dataframe\">\n",
       "  <thead>\n",
       "    <tr style=\"text-align: right;\">\n",
       "      <th></th>\n",
       "      <th>SK_ID_PREV</th>\n",
       "      <th>SK_ID_CURR</th>\n",
       "      <th>NUM_INSTALMENT_VERSION</th>\n",
       "      <th>DAYS_ENTRY_PAYMENT</th>\n",
       "      <th>AMT_INSTALMENT</th>\n",
       "      <th>AMT_PAYMENT</th>\n",
       "      <th>DAYS_INSTALMENT_TO_YEARS</th>\n",
       "      <th>diff_amount</th>\n",
       "    </tr>\n",
       "  </thead>\n",
       "  <tbody>\n",
       "    <tr>\n",
       "      <th>0</th>\n",
       "      <td>1054186</td>\n",
       "      <td>161674</td>\n",
       "      <td>1.0</td>\n",
       "      <td>-1187.0</td>\n",
       "      <td>6948.360</td>\n",
       "      <td>6948.360</td>\n",
       "      <td>3.2329</td>\n",
       "      <td>0.000</td>\n",
       "    </tr>\n",
       "    <tr>\n",
       "      <th>1</th>\n",
       "      <td>1330831</td>\n",
       "      <td>151639</td>\n",
       "      <td>0.0</td>\n",
       "      <td>-2156.0</td>\n",
       "      <td>1716.525</td>\n",
       "      <td>1716.525</td>\n",
       "      <td>5.9068</td>\n",
       "      <td>0.000</td>\n",
       "    </tr>\n",
       "    <tr>\n",
       "      <th>2</th>\n",
       "      <td>2085231</td>\n",
       "      <td>193053</td>\n",
       "      <td>2.0</td>\n",
       "      <td>-63.0</td>\n",
       "      <td>25425.000</td>\n",
       "      <td>25425.000</td>\n",
       "      <td>0.1726</td>\n",
       "      <td>0.000</td>\n",
       "    </tr>\n",
       "    <tr>\n",
       "      <th>3</th>\n",
       "      <td>2452527</td>\n",
       "      <td>199697</td>\n",
       "      <td>1.0</td>\n",
       "      <td>-2426.0</td>\n",
       "      <td>24350.130</td>\n",
       "      <td>24350.130</td>\n",
       "      <td>6.6247</td>\n",
       "      <td>0.000</td>\n",
       "    </tr>\n",
       "    <tr>\n",
       "      <th>4</th>\n",
       "      <td>2714724</td>\n",
       "      <td>167756</td>\n",
       "      <td>1.0</td>\n",
       "      <td>-1366.0</td>\n",
       "      <td>2165.040</td>\n",
       "      <td>2160.585</td>\n",
       "      <td>3.7890</td>\n",
       "      <td>-4.455</td>\n",
       "    </tr>\n",
       "  </tbody>\n",
       "</table>\n",
       "</div>"
      ],
      "text/plain": [
       "   SK_ID_PREV  SK_ID_CURR  NUM_INSTALMENT_VERSION  DAYS_ENTRY_PAYMENT  AMT_INSTALMENT  AMT_PAYMENT  DAYS_INSTALMENT_TO_YEARS  diff_amount\n",
       "0  1054186     161674      1.0                    -1187.0              6948.360        6948.360     3.2329                    0.000      \n",
       "1  1330831     151639      0.0                    -2156.0              1716.525        1716.525     5.9068                    0.000      \n",
       "2  2085231     193053      2.0                    -63.0                25425.000       25425.000    0.1726                    0.000      \n",
       "3  2452527     199697      1.0                    -2426.0              24350.130       24350.130    6.6247                    0.000      \n",
       "4  2714724     167756      1.0                    -1366.0              2165.040        2160.585     3.7890                   -4.455      "
      ]
     },
     "execution_count": 13,
     "metadata": {},
     "output_type": "execute_result"
    }
   ],
   "source": [
    "pdf_con = pdf_data[[\"SK_ID_PREV\", \"SK_ID_CURR\"] + ls_con].copy()\n",
    "pdf_con.head()"
   ]
  },
  {
   "cell_type": "code",
   "execution_count": 14,
   "metadata": {
    "scrolled": false
   },
   "outputs": [
    {
     "data": {
      "text/plain": [
       "{'AMT_INSTALMENT': ['max', 'min', 'sum', 'mean', 'std'],\n",
       " 'AMT_PAYMENT': ['max', 'min', 'sum', 'mean', 'std'],\n",
       " 'DAYS_ENTRY_PAYMENT': ['max', 'min', 'sum', 'mean', 'std'],\n",
       " 'DAYS_INSTALMENT_TO_YEARS': ['max', 'min', 'sum', 'mean', 'std'],\n",
       " 'NUM_INSTALMENT_VERSION': ['max', 'min', 'sum', 'mean', 'std'],\n",
       " 'diff_amount': ['max', 'min', 'sum', 'mean', 'std']}"
      ]
     },
     "metadata": {},
     "output_type": "display_data"
    },
    {
     "name": "stdout",
     "output_type": "stream",
     "text": [
      "After agg: (339587, 30)\n"
     ]
    },
    {
     "data": {
      "text/html": [
       "<div>\n",
       "<style scoped>\n",
       "    .dataframe tbody tr th:only-of-type {\n",
       "        vertical-align: middle;\n",
       "    }\n",
       "\n",
       "    .dataframe tbody tr th {\n",
       "        vertical-align: top;\n",
       "    }\n",
       "\n",
       "    .dataframe thead th {\n",
       "        text-align: right;\n",
       "    }\n",
       "</style>\n",
       "<table border=\"1\" class=\"dataframe\">\n",
       "  <thead>\n",
       "    <tr style=\"text-align: right;\">\n",
       "      <th></th>\n",
       "      <th>name</th>\n",
       "      <th>auc</th>\n",
       "      <th>corr</th>\n",
       "      <th>coverage</th>\n",
       "    </tr>\n",
       "  </thead>\n",
       "  <tbody>\n",
       "    <tr>\n",
       "      <th>1</th>\n",
       "      <td>DAYS_ENTRY_PAYMENT_min</td>\n",
       "      <td>0.5631</td>\n",
       "      <td>0.0597</td>\n",
       "      <td>1.0000</td>\n",
       "    </tr>\n",
       "    <tr>\n",
       "      <th>15</th>\n",
       "      <td>DAYS_INSTALMENT_TO_YEARS_max</td>\n",
       "      <td>0.5628</td>\n",
       "      <td>-0.0595</td>\n",
       "      <td>1.0000</td>\n",
       "    </tr>\n",
       "    <tr>\n",
       "      <th>19</th>\n",
       "      <td>DAYS_INSTALMENT_TO_YEARS_std</td>\n",
       "      <td>0.5619</td>\n",
       "      <td>-0.0590</td>\n",
       "      <td>0.9975</td>\n",
       "    </tr>\n",
       "    <tr>\n",
       "      <th>4</th>\n",
       "      <td>DAYS_ENTRY_PAYMENT_std</td>\n",
       "      <td>0.5610</td>\n",
       "      <td>-0.0585</td>\n",
       "      <td>0.9974</td>\n",
       "    </tr>\n",
       "    <tr>\n",
       "      <th>3</th>\n",
       "      <td>DAYS_ENTRY_PAYMENT_mean</td>\n",
       "      <td>0.5560</td>\n",
       "      <td>0.0447</td>\n",
       "      <td>1.0000</td>\n",
       "    </tr>\n",
       "    <tr>\n",
       "      <th>6</th>\n",
       "      <td>AMT_PAYMENT_min</td>\n",
       "      <td>0.5554</td>\n",
       "      <td>-0.0244</td>\n",
       "      <td>1.0000</td>\n",
       "    </tr>\n",
       "    <tr>\n",
       "      <th>18</th>\n",
       "      <td>DAYS_INSTALMENT_TO_YEARS_mean</td>\n",
       "      <td>0.5553</td>\n",
       "      <td>-0.0442</td>\n",
       "      <td>1.0000</td>\n",
       "    </tr>\n",
       "    <tr>\n",
       "      <th>13</th>\n",
       "      <td>diff_amount_mean</td>\n",
       "      <td>0.5552</td>\n",
       "      <td>-0.0306</td>\n",
       "      <td>1.0000</td>\n",
       "    </tr>\n",
       "    <tr>\n",
       "      <th>2</th>\n",
       "      <td>DAYS_ENTRY_PAYMENT_sum</td>\n",
       "      <td>0.5496</td>\n",
       "      <td>0.0352</td>\n",
       "      <td>1.0000</td>\n",
       "    </tr>\n",
       "    <tr>\n",
       "      <th>17</th>\n",
       "      <td>DAYS_INSTALMENT_TO_YEARS_sum</td>\n",
       "      <td>0.5492</td>\n",
       "      <td>-0.0350</td>\n",
       "      <td>1.0000</td>\n",
       "    </tr>\n",
       "    <tr>\n",
       "      <th>12</th>\n",
       "      <td>diff_amount_sum</td>\n",
       "      <td>0.5490</td>\n",
       "      <td>-0.0291</td>\n",
       "      <td>1.0000</td>\n",
       "    </tr>\n",
       "    <tr>\n",
       "      <th>7</th>\n",
       "      <td>AMT_PAYMENT_sum</td>\n",
       "      <td>0.5448</td>\n",
       "      <td>-0.0260</td>\n",
       "      <td>1.0000</td>\n",
       "    </tr>\n",
       "    <tr>\n",
       "      <th>21</th>\n",
       "      <td>AMT_INSTALMENT_min</td>\n",
       "      <td>0.5447</td>\n",
       "      <td>-0.0195</td>\n",
       "      <td>1.0000</td>\n",
       "    </tr>\n",
       "    <tr>\n",
       "      <th>8</th>\n",
       "      <td>AMT_PAYMENT_mean</td>\n",
       "      <td>0.5431</td>\n",
       "      <td>-0.0234</td>\n",
       "      <td>1.0000</td>\n",
       "    </tr>\n",
       "    <tr>\n",
       "      <th>27</th>\n",
       "      <td>NUM_INSTALMENT_VERSION_sum</td>\n",
       "      <td>0.5411</td>\n",
       "      <td>-0.0310</td>\n",
       "      <td>1.0000</td>\n",
       "    </tr>\n",
       "    <tr>\n",
       "      <th>11</th>\n",
       "      <td>diff_amount_min</td>\n",
       "      <td>0.5397</td>\n",
       "      <td>-0.0202</td>\n",
       "      <td>1.0000</td>\n",
       "    </tr>\n",
       "    <tr>\n",
       "      <th>22</th>\n",
       "      <td>AMT_INSTALMENT_sum</td>\n",
       "      <td>0.5391</td>\n",
       "      <td>-0.0212</td>\n",
       "      <td>1.0000</td>\n",
       "    </tr>\n",
       "    <tr>\n",
       "      <th>23</th>\n",
       "      <td>AMT_INSTALMENT_mean</td>\n",
       "      <td>0.5353</td>\n",
       "      <td>-0.0184</td>\n",
       "      <td>1.0000</td>\n",
       "    </tr>\n",
       "    <tr>\n",
       "      <th>28</th>\n",
       "      <td>NUM_INSTALMENT_VERSION_mean</td>\n",
       "      <td>0.5329</td>\n",
       "      <td>-0.0281</td>\n",
       "      <td>1.0000</td>\n",
       "    </tr>\n",
       "    <tr>\n",
       "      <th>26</th>\n",
       "      <td>NUM_INSTALMENT_VERSION_min</td>\n",
       "      <td>0.5259</td>\n",
       "      <td>-0.0325</td>\n",
       "      <td>1.0000</td>\n",
       "    </tr>\n",
       "    <tr>\n",
       "      <th>14</th>\n",
       "      <td>diff_amount_std</td>\n",
       "      <td>0.5224</td>\n",
       "      <td>-0.0121</td>\n",
       "      <td>0.9975</td>\n",
       "    </tr>\n",
       "    <tr>\n",
       "      <th>5</th>\n",
       "      <td>AMT_PAYMENT_max</td>\n",
       "      <td>0.5219</td>\n",
       "      <td>0.0005</td>\n",
       "      <td>1.0000</td>\n",
       "    </tr>\n",
       "    <tr>\n",
       "      <th>20</th>\n",
       "      <td>AMT_INSTALMENT_max</td>\n",
       "      <td>0.5212</td>\n",
       "      <td>0.0014</td>\n",
       "      <td>1.0000</td>\n",
       "    </tr>\n",
       "    <tr>\n",
       "      <th>10</th>\n",
       "      <td>diff_amount_max</td>\n",
       "      <td>0.5150</td>\n",
       "      <td>-0.0161</td>\n",
       "      <td>1.0000</td>\n",
       "    </tr>\n",
       "    <tr>\n",
       "      <th>25</th>\n",
       "      <td>NUM_INSTALMENT_VERSION_max</td>\n",
       "      <td>0.5142</td>\n",
       "      <td>-0.0196</td>\n",
       "      <td>1.0000</td>\n",
       "    </tr>\n",
       "    <tr>\n",
       "      <th>24</th>\n",
       "      <td>AMT_INSTALMENT_std</td>\n",
       "      <td>0.5117</td>\n",
       "      <td>0.0008</td>\n",
       "      <td>0.9975</td>\n",
       "    </tr>\n",
       "    <tr>\n",
       "      <th>0</th>\n",
       "      <td>DAYS_ENTRY_PAYMENT_max</td>\n",
       "      <td>0.5109</td>\n",
       "      <td>-0.0016</td>\n",
       "      <td>1.0000</td>\n",
       "    </tr>\n",
       "    <tr>\n",
       "      <th>29</th>\n",
       "      <td>NUM_INSTALMENT_VERSION_std</td>\n",
       "      <td>0.5078</td>\n",
       "      <td>-0.0107</td>\n",
       "      <td>0.9975</td>\n",
       "    </tr>\n",
       "    <tr>\n",
       "      <th>9</th>\n",
       "      <td>AMT_PAYMENT_std</td>\n",
       "      <td>0.5068</td>\n",
       "      <td>-0.0013</td>\n",
       "      <td>0.9975</td>\n",
       "    </tr>\n",
       "    <tr>\n",
       "      <th>16</th>\n",
       "      <td>DAYS_INSTALMENT_TO_YEARS_min</td>\n",
       "      <td>0.5031</td>\n",
       "      <td>0.0024</td>\n",
       "      <td>1.0000</td>\n",
       "    </tr>\n",
       "  </tbody>\n",
       "</table>\n",
       "</div>"
      ],
      "text/plain": [
       "                             name     auc    corr  coverage\n",
       "1   DAYS_ENTRY_PAYMENT_min         0.5631  0.0597  1.0000  \n",
       "15  DAYS_INSTALMENT_TO_YEARS_max   0.5628 -0.0595  1.0000  \n",
       "19  DAYS_INSTALMENT_TO_YEARS_std   0.5619 -0.0590  0.9975  \n",
       "4   DAYS_ENTRY_PAYMENT_std         0.5610 -0.0585  0.9974  \n",
       "3   DAYS_ENTRY_PAYMENT_mean        0.5560  0.0447  1.0000  \n",
       "6   AMT_PAYMENT_min                0.5554 -0.0244  1.0000  \n",
       "18  DAYS_INSTALMENT_TO_YEARS_mean  0.5553 -0.0442  1.0000  \n",
       "13  diff_amount_mean               0.5552 -0.0306  1.0000  \n",
       "2   DAYS_ENTRY_PAYMENT_sum         0.5496  0.0352  1.0000  \n",
       "17  DAYS_INSTALMENT_TO_YEARS_sum   0.5492 -0.0350  1.0000  \n",
       "12  diff_amount_sum                0.5490 -0.0291  1.0000  \n",
       "7   AMT_PAYMENT_sum                0.5448 -0.0260  1.0000  \n",
       "21  AMT_INSTALMENT_min             0.5447 -0.0195  1.0000  \n",
       "8   AMT_PAYMENT_mean               0.5431 -0.0234  1.0000  \n",
       "27  NUM_INSTALMENT_VERSION_sum     0.5411 -0.0310  1.0000  \n",
       "11  diff_amount_min                0.5397 -0.0202  1.0000  \n",
       "22  AMT_INSTALMENT_sum             0.5391 -0.0212  1.0000  \n",
       "23  AMT_INSTALMENT_mean            0.5353 -0.0184  1.0000  \n",
       "28  NUM_INSTALMENT_VERSION_mean    0.5329 -0.0281  1.0000  \n",
       "26  NUM_INSTALMENT_VERSION_min     0.5259 -0.0325  1.0000  \n",
       "14  diff_amount_std                0.5224 -0.0121  0.9975  \n",
       "5   AMT_PAYMENT_max                0.5219  0.0005  1.0000  \n",
       "20  AMT_INSTALMENT_max             0.5212  0.0014  1.0000  \n",
       "10  diff_amount_max                0.5150 -0.0161  1.0000  \n",
       "25  NUM_INSTALMENT_VERSION_max     0.5142 -0.0196  1.0000  \n",
       "24  AMT_INSTALMENT_std             0.5117  0.0008  0.9975  \n",
       "0   DAYS_ENTRY_PAYMENT_max         0.5109 -0.0016  1.0000  \n",
       "29  NUM_INSTALMENT_VERSION_std     0.5078 -0.0107  0.9975  \n",
       "9   AMT_PAYMENT_std                0.5068 -0.0013  0.9975  \n",
       "16  DAYS_INSTALMENT_TO_YEARS_min   0.5031  0.0024  1.0000  "
      ]
     },
     "metadata": {},
     "output_type": "display_data"
    },
    {
     "name": "stdout",
     "output_type": "stream",
     "text": [
      "CPU times: user 20.7 s, sys: 864 ms, total: 21.6 s\n",
      "Wall time: 7.93 s\n"
     ]
    }
   ],
   "source": [
    "%%time\n",
    "pdf_agg03 = agg_common_data(pdf_con[[\"SK_ID_CURR\"] + ls_con], [\"max\", \"min\", \"sum\", \"mean\", \"std\"], main_key=\"SK_ID_CURR\")\n",
    "eval_agg03 = feature_evaluate(pdf_train_filtered, pdf_agg03)\n",
    "display(eval_agg03)"
   ]
  },
  {
   "cell_type": "markdown",
   "metadata": {},
   "source": [
    "# Save features"
   ]
  },
  {
   "cell_type": "code",
   "execution_count": 15,
   "metadata": {},
   "outputs": [
    {
     "name": "stdout",
     "output_type": "stream",
     "text": [
      "(339587, 35)\n"
     ]
    }
   ],
   "source": [
    "pdf_feat = pdf_agg02.join(pdf_agg03)\n",
    "print(pdf_feat.shape)"
   ]
  },
  {
   "cell_type": "code",
   "execution_count": 16,
   "metadata": {},
   "outputs": [
    {
     "name": "stdout",
     "output_type": "stream",
     "text": [
      "Store features completed!\n",
      "CPU times: user 8.74 s, sys: 160 ms, total: 8.9 s\n",
      "Wall time: 7.55 s\n"
     ]
    }
   ],
   "source": [
    "%%time\n",
    "fname = \"installments_payments\"\n",
    "# fname = \"installments_payments_in1year\"\n",
    "# fname = \"installments_payments_in2year\"\n",
    "# fname = \"installments_payments_gt3year\"\n",
    "\n",
    "fname = os.path.join(\"features\", \"{}.pkl.bz2\".format(fname))\n",
    "pdf_feat.to_pickle(fname, compression=\"bz2\")\n",
    "print(\"Store features completed!\")"
   ]
  }
 ],
 "metadata": {
  "kernelspec": {
   "display_name": "Python 2",
   "language": "python",
   "name": "python2"
  },
  "language_info": {
   "codemirror_mode": {
    "name": "ipython",
    "version": 2
   },
   "file_extension": ".py",
   "mimetype": "text/x-python",
   "name": "python",
   "nbconvert_exporter": "python",
   "pygments_lexer": "ipython2",
   "version": "2.7.15"
  }
 },
 "nbformat": 4,
 "nbformat_minor": 2
}
